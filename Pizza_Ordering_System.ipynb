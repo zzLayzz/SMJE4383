{
  "nbformat": 4,
  "nbformat_minor": 0,
  "metadata": {
    "colab": {
      "provenance": [],
      "authorship_tag": "ABX9TyN8lahCB1PzgTbO6qTPLYOd",
      "include_colab_link": true
    },
    "kernelspec": {
      "name": "python3",
      "display_name": "Python 3"
    },
    "language_info": {
      "name": "python"
    }
  },
  "cells": [
    {
      "cell_type": "markdown",
      "metadata": {
        "id": "view-in-github",
        "colab_type": "text"
      },
      "source": [
        "<a href=\"https://colab.research.google.com/github/zzLayzz/SMJE4383/blob/main/Pizza_Ordering_System.ipynb\" target=\"_parent\"><img src=\"https://colab.research.google.com/assets/colab-badge.svg\" alt=\"Open In Colab\"/></a>"
      ]
    },
    {
      "cell_type": "code",
      "execution_count": 4,
      "metadata": {
        "colab": {
          "base_uri": "https://localhost:8080/"
        },
        "id": "hMLmFPEf2wM4",
        "outputId": "ee0a826c-3322-4f47-a413-ea9cf4fab016"
      },
      "outputs": [
        {
          "output_type": "stream",
          "name": "stdout",
          "text": [
            "Enter your total pizza order amount (RM): 120\n",
            "You get a 15% discount of RM 18.00!\n"
          ]
        }
      ],
      "source": [
        "# Pizza discount based on order amount\n",
        "order_amount = float(input(\"Enter your total pizza order amount (RM): \") )\n",
        "\n",
        "if order_amount > 100:\n",
        "  discount = 0.15 * order_amount\n",
        "  print(f\"You get a 15% discount of RM {discount :.2f}!\")\n",
        "else:\n",
        "  print(\"No discount applied. Thank you for your order!\")"
      ]
    },
    {
      "cell_type": "markdown",
      "source": [
        "Example 2"
      ],
      "metadata": {
        "id": "LSomTKRC338F"
      }
    },
    {
      "cell_type": "code",
      "source": [
        "# Check if the pizza is available\n",
        "available_pizzas = [\"Margherita\", \"Pepperoni\", \"BBQ Chicken\", \"Veggie\"]\n",
        "selected_pizza = input(\"Enter the name of the pizza you want: \") .title()\n",
        "\n",
        "if selected_pizza in available_pizzas:\n",
        "  print(f\"{selected_pizza} is available!\")\n",
        "else:\n",
        "  print(f\"Sorry, {selected_pizza} is not on the menu.\")"
      ],
      "metadata": {
        "colab": {
          "base_uri": "https://localhost:8080/"
        },
        "id": "iziqB1XV3ueB",
        "outputId": "4f1f4caa-6ce7-4ebb-e165-6b3c018887df"
      },
      "execution_count": 6,
      "outputs": [
        {
          "output_type": "stream",
          "name": "stdout",
          "text": [
            "Enter the name of the pizza you want: Pepperoni\n",
            "Pepperoni is available!\n"
          ]
        }
      ]
    },
    {
      "cell_type": "code",
      "source": [
        "# Display pizza menu using a for loop\n",
        "menu = {\"Margherita\": 25, \"Pepperoni\": 30, \"BBQ Chicken\": 35, \"Veggie\": 28}\n",
        "\n",
        "print(\"Pizza Menu:\")\n",
        "for pizza, price in menu.items():\n",
        "  print(f\"- {pizza}: RM {price}\")"
      ],
      "metadata": {
        "colab": {
          "base_uri": "https://localhost:8080/"
        },
        "id": "yUhHyhlt4U2M",
        "outputId": "627bf946-791b-42d9-c200-f453e3c4c817"
      },
      "execution_count": 8,
      "outputs": [
        {
          "output_type": "stream",
          "name": "stdout",
          "text": [
            "Pizza Menu:\n",
            "- Margherita: RM 25\n",
            "- Pepperoni: RM 30\n",
            "- BBQ Chicken: RM 35\n",
            "- Veggie: RM 28\n"
          ]
        }
      ]
    },
    {
      "cell_type": "code",
      "source": [
        "# Take multiple pizza orders\n",
        "menu = {\"Margherita\": 25, \"Pepperoni\": 30, \"BBQ Chicken\": 35, \"Veggie\": 28}\n",
        "order_list = []\n",
        "\n",
        "while True:\n",
        "  order = input(\"Enter a pizza name to order (or type 'done' to finish): \").title()\n",
        "  if order == 'Done':\n",
        "    break\n",
        "  if order in menu:\n",
        "    order_list.append(order)\n",
        "  else:\n",
        "    print(\"We don't have that pizza.\")\n",
        "\n",
        "print(\"\\nYour Orders:\")\n",
        "for pizza in order_list:\n",
        "  print(f\"- {pizza}\")"
      ],
      "metadata": {
        "colab": {
          "base_uri": "https://localhost:8080/"
        },
        "id": "k76kJTKy450d",
        "outputId": "60f0abfa-1fbf-4825-f2b3-9bfd8cdc21ae"
      },
      "execution_count": 14,
      "outputs": [
        {
          "output_type": "stream",
          "name": "stdout",
          "text": [
            "Enter a pizza name to order (or type 'done' to finish): Pepperoni\n",
            "Enter a pizza name to order (or type 'done' to finish): done\n",
            "\n",
            "Your Orders:\n",
            "- Pepperoni\n"
          ]
        }
      ]
    },
    {
      "cell_type": "code",
      "source": [
        "# Function to calculate total cost\n",
        "def calculate_total(order_list, menu):\n",
        "  return sum(menu[pizza] for pizza in order_list)\n",
        "\n",
        "menu = {\"Margherita\": 25, \"Pepperoni\": 30, \"BBQ Chicken\": 35, \"Veggie\": 28}\n",
        "order_list = [\"Margherita\", \"Pepperoni\", \"Veggie\"]\n",
        "\n",
        "total_cost = calculate_total(order_list, menu)\n",
        "print(f\"Total cost of your order is RM {total_cost}\")"
      ],
      "metadata": {
        "colab": {
          "base_uri": "https://localhost:8080/"
        },
        "id": "CJfkjT2X5fcn",
        "outputId": "93794763-f41e-45b3-d3a8-205e6eab005f"
      },
      "execution_count": 15,
      "outputs": [
        {
          "output_type": "stream",
          "name": "stdout",
          "text": [
            "Total cost of your order is RM 83\n"
          ]
        }
      ]
    },
    {
      "cell_type": "code",
      "source": [
        "# Function to display the menu\n",
        "def display_menu(menu):\n",
        "  print(\"Pizza Menu:\")\n",
        "for pizza, price in menu.items():\n",
        "  print(f\"- {pizza}: RM {price}\")\n",
        "\n",
        "menu = {\"Margherita\": 25, \"Pepperoni\": 30, \"BBQ Chicken\": 35, \"Veggie\": 28}\n",
        "display_menu(menu)"
      ],
      "metadata": {
        "colab": {
          "base_uri": "https://localhost:8080/"
        },
        "id": "QgICzUoW6q4j",
        "outputId": "593d97a8-1551-47d3-8d74-f078e8577f26"
      },
      "execution_count": 16,
      "outputs": [
        {
          "output_type": "stream",
          "name": "stdout",
          "text": [
            "- Margherita: RM 25\n",
            "- Pepperoni: RM 30\n",
            "- BBQ Chicken: RM 35\n",
            "- Veggie: RM 28\n",
            "Pizza Menu:\n"
          ]
        }
      ]
    },
    {
      "cell_type": "markdown",
      "source": [
        "Final Example"
      ],
      "metadata": {
        "id": "sP4ozgt8_gJD"
      }
    },
    {
      "cell_type": "code",
      "source": [
        "# Define the menu of available pizzas and their prices\n",
        "menu = {\"Margherita\": 25, \"Pepperoni\": 30, \"BBQ Chicken\": 35, \"Veggie\": 28}\n",
        "\n",
        "def apply_discount(total):\n",
        "  if total_cost > 100:\n",
        "    discount = 0.15 * order_amount\n",
        "    print(f\"You get a 15% discount of RM {discount :.2f}!\")\n",
        "    return total - discount\n",
        "  else:\n",
        "    print(\"No discount applied. Thank you for your order!\")\n",
        "    return total\n",
        "\n",
        "def display_menu():\n",
        "    print(\"Welcome to the Pizza Ordering System!\")\n",
        "    print(\"Please choose from our menu:\")\n",
        "    for pizza, price in menu.items():\n",
        "        print(f\"{pizza}: RM {price:.2f}\")\n",
        "\n",
        "def order_pizzas():\n",
        "    order = []\n",
        "    total_cost = 0\n",
        "\n",
        "    while True:\n",
        "        pizza = input(\"Enter the pizza you would like to order (or 'done' to finish): \")\n",
        "        if pizza.lower() == \"done\":\n",
        "            break\n",
        "        if pizza in menu:\n",
        "            order.append(pizza)\n",
        "            total_cost += menu[pizza]\n",
        "        else:\n",
        "            print(\"Sorry, that pizza is not on the menu.\")\n",
        "\n",
        "    discounted_total = apply_discount(total_cost)\n",
        "\n",
        "    print(\"\\nOrder Summary:\")\n",
        "    for item in order:\n",
        "        print(f\"- {item}\")\n",
        "    print(f\"Total Cost: RM {total_cost:.2f}\")\n",
        "\n",
        "    if total_cost > 100:\n",
        "        print(f\"Discount: 15%\")\n",
        "    else:\n",
        "        print(\"No discount applied.\")\n",
        "    print(f\"Final Cost: RM {discounted_total:.2f}\")\n",
        "\n",
        "# Run the pizza ordering system\n",
        "display_menu()\n",
        "order_pizzas()"
      ],
      "metadata": {
        "colab": {
          "base_uri": "https://localhost:8080/"
        },
        "id": "mphxDROl8GXS",
        "outputId": "e57ac964-9647-41fa-e964-63fd8560f45f"
      },
      "execution_count": 23,
      "outputs": [
        {
          "output_type": "stream",
          "name": "stdout",
          "text": [
            "Welcome to the Pizza Ordering System!\n",
            "Please choose from our menu:\n",
            "Margherita: RM 25.00\n",
            "Pepperoni: RM 30.00\n",
            "BBQ Chicken: RM 35.00\n",
            "Veggie: RM 28.00\n",
            "Enter the pizza you would like to order (or 'done' to finish): Veggie\n",
            "Enter the pizza you would like to order (or 'done' to finish): Pepperoni\n",
            "Enter the pizza you would like to order (or 'done' to finish): satay\n",
            "Sorry, that pizza is not on the menu.\n",
            "Enter the pizza you would like to order (or 'done' to finish): done\n",
            "No discount applied. Thank you for your order!\n",
            "\n",
            "Order Summary:\n",
            "- Veggie\n",
            "- Pepperoni\n",
            "Total Cost: RM 58.00\n",
            "No discount applied.\n",
            "Final Cost: RM 58.00\n"
          ]
        }
      ]
    }
  ]
}